{
  "nbformat": 4,
  "nbformat_minor": 0,
  "metadata": {
    "colab": {
      "name": "ComputeEditDistance_py.ipynb",
      "provenance": [],
      "authorship_tag": "ABX9TyMH24TRjnPgMSF+feh10fut",
      "include_colab_link": true
    },
    "kernelspec": {
      "name": "python3",
      "display_name": "Python 3"
    }
  },
  "cells": [
    {
      "cell_type": "markdown",
      "metadata": {
        "id": "view-in-github",
        "colab_type": "text"
      },
      "source": [
        "<a href=\"https://colab.research.google.com/github/MrRutledge/CS221_ml_Class/blob/master/ComputeEditDistance_py.ipynb\" target=\"_parent\"><img src=\"https://colab.research.google.com/assets/colab-badge.svg\" alt=\"Open In Colab\"/></a>"
      ]
    },
    {
      "cell_type": "code",
      "metadata": {
        "id": "4mTWtpCU5iOA",
        "colab_type": "code",
        "colab": {
          "base_uri": "https://localhost:8080/",
          "height": 34
        },
        "outputId": "eeb75c78-fe07-4a63-ac97-dfd6a0f6570d"
      },
      "source": [
        "def computeEditDistance (s, t):\n",
        "    cache  = {} # (m,n) => result \n",
        "    def recurse (m,n): \n",
        "        \"\"\"\n",
        "        Return the minimum edit distance between:\n",
        "        - first m letters of s\n",
        "        - first n letters of t \n",
        "\n",
        "        \"\"\"\n",
        "        if (m,n)  in cache:\n",
        "          return cache [(m,n)]\n",
        "        if m == 0: #base case \n",
        "            result  = n \n",
        "        elif n == 0: # base case\n",
        "            result = m \n",
        "        elif s[m-1] == t[n-1]: # last letter matches\n",
        "            result  = recurse(m-1, n-1)\n",
        "        else:\n",
        "            subCost = 1 + recurse(m-1, n-1)\n",
        "            delCost = 1 + recurse(m-1, n)\n",
        "            insCost = 1 + recurse(m, n-1)\n",
        "            result  = min(subCost, delCost, insCost)\n",
        "        cache[(m,n)] = result \n",
        "        return result\n",
        "\n",
        "    return recurse(len(s), len(t))\n",
        "\n",
        "#print(computeEditDistance('a cat', 'the cats'))\n",
        "print(computeEditDistance(' cow'* 10, 'cows ')) \n",
        "\n"
      ],
      "execution_count": 13,
      "outputs": [
        {
          "output_type": "stream",
          "text": [
            "36\n"
          ],
          "name": "stdout"
        }
      ]
    },
    {
      "cell_type": "markdown",
      "metadata": {
        "id": "lpAcOkdWFfFT",
        "colab_type": "text"
      },
      "source": [
        "# Computing the distance using Gradient Descent"
      ]
    },
    {
      "cell_type": "code",
      "metadata": {
        "id": "NGIR6T1d9UVw",
        "colab_type": "code",
        "colab": {
          "base_uri": "https://localhost:8080/",
          "height": 185
        },
        "outputId": "7d667636-963c-4137-9c3c-ffad46bb6754"
      },
      "source": [
        "points  = [ (2, 4), (4,2)]\n",
        "\n",
        "def F(w):\n",
        "  return sum((w * x- y)**2 for x, y in points)\n",
        "\n",
        "def dF(w):\n",
        "  return sum(2*(w*x - y)*x for x , y in points)\n",
        "\n",
        "# Gradient descent\n",
        "w = 0 \n",
        "eta = 0.01\n",
        "for t in range(10):\n",
        "  value = F(w)\n",
        "  gradient = dF(w)\n",
        "  w = w - eta* gradient \n",
        "  print('iteration {} : w = {}, F(w) = {}'.format(t ,w , value) )"
      ],
      "execution_count": 15,
      "outputs": [
        {
          "output_type": "stream",
          "text": [
            "iteration 0 : w = 0.32, F(w) = 20\n",
            "iteration 1 : w = 0.512, F(w) = 11.807999999999998\n",
            "iteration 2 : w = 0.6272, F(w) = 8.858880000000001\n",
            "iteration 3 : w = 0.69632, F(w) = 7.7971968\n",
            "iteration 4 : w = 0.737792, F(w) = 7.4149908479999995\n",
            "iteration 5 : w = 0.7626752, F(w) = 7.27739670528\n",
            "iteration 6 : w = 0.77760512, F(w) = 7.227862813900801\n",
            "iteration 7 : w = 0.786563072, F(w) = 7.210030613004288\n",
            "iteration 8 : w = 0.7919378432, F(w) = 7.203611020681545\n",
            "iteration 9 : w = 0.79516270592, F(w) = 7.201299967445356\n"
          ],
          "name": "stdout"
        }
      ]
    },
    {
      "cell_type": "code",
      "metadata": {
        "id": "c6QimHXvHa4f",
        "colab_type": "code",
        "colab": {}
      },
      "source": [
        ""
      ],
      "execution_count": 0,
      "outputs": []
    }
  ]
}